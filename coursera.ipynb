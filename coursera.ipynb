{
 "cells": [
  {
   "cell_type": "markdown",
   "id": "32fee358-d13a-492c-8c3d-d7d121301f40",
   "metadata": {},
   "source": [
    "# data science tools "
   ]
  },
  {
   "cell_type": "markdown",
   "id": "885819ee-7ec3-4029-babf-c8836b519fcf",
   "metadata": {},
   "source": [
    "# Introduction\n",
    "In this notebook, we will summarize some of the key tools, libraries, and languages used in the field of Data Science. We will also perform basic arithmetic operations using Python code cells.\n"
   ]
  },
  {
   "cell_type": "markdown",
   "id": "3758a69d-7eb4-4a51-8a49-0d3a1468d1c5",
   "metadata": {},
   "source": [
    "# Popular Languages for Data Science\n",
    "Some of the most commonly used languages for Data Science are:-\n",
    "- Python\n",
    "- R\n",
    "- SQL\n",
    "- Julia\n",
    "- Scala\n"
   ]
  },
  {
   "cell_type": "markdown",
   "id": "a8013a8e-8814-4bc1-ab8f-15ec312ffe98",
   "metadata": {},
   "source": [
    "# Commonly Used Data Science Libraries\n",
    "Here are some libraries frequently used by Data Scientists:-\n",
    "- NumPy\n",
    "- Pandas\n",
    "- Matplotlib\n",
    "- Scikit-learn\n",
    "- TensorFlow\n"
   ]
  },
  {
   "cell_type": "markdown",
   "id": "e091f564-d396-4d7e-a068-a00e23d2e9b6",
   "metadata": {},
   "source": [
    "# Table of Data Science Tools\n",
    "\n",
    "| Category        | Tools                          |\n",
    "|-----------------|--------------------------------|\n",
    "| Data Processing | Apache Spark, Hadoop, Dask     |\n",
    "| Visualization   | Matplotlib, Seaborn, Tableau   |\n",
    "| Modeling        | Scikit-learn, TensorFlow, Keras|\n",
    "| Languages       | Python, R, SQL                 |\n"
   ]
  },
  {
   "cell_type": "markdown",
   "id": "1efe2695-c73b-4ad0-b2d2-f82d046e442e",
   "metadata": {},
   "source": [
    "# Arithmetic Expressions in Python\n",
    "Below are examples of how arithmetic expressions can be written and executed in Python\n"
   ]
  },
  {
   "cell_type": "code",
   "execution_count": 1,
   "id": "77bbf7c1-5c38-4e2a-800b-14105ee6bcbe",
   "metadata": {},
   "outputs": [
    {
     "name": "stdout",
     "output_type": "stream",
     "text": [
      "The result of (3 * 4) + 5 is: 17\n"
     ]
    }
   ],
   "source": [
    "result = (3 * 4) + 5\n",
    "print(\"The result of (3 * 4) + 5 is:\", result)"
   ]
  },
  {
   "cell_type": "code",
   "execution_count": 3,
   "id": "3b1460dc-1ca5-4fe7-8d71-110e291f3459",
   "metadata": {},
   "outputs": [
    {
     "name": "stdout",
     "output_type": "stream",
     "text": [
      "150 minutes is equal to 2.5 hours\n"
     ]
    }
   ],
   "source": [
    "minutes = 150\n",
    "hours = minutes / 60\n",
    "print(\"150 minutes is equal to\", hours, \"hours\")"
   ]
  },
  {
   "cell_type": "markdown",
   "id": "bc7f2d31-276c-482e-9b83-59b016cfd4ec",
   "metadata": {},
   "source": [
    "# objectives \n",
    "- List popular languages used in Data Science\n",
    "- List commonly used libraries in Data Science\n",
    "- Display a table of Data Science tools\n",
    "- Perform basic arithmetic operations in Python\n",
    "- Convert minutes to hours using Python"
   ]
  },
  {
   "cell_type": "markdown",
   "id": "da3253c7-dad9-473b-ac89-776414cc154e",
   "metadata": {},
   "source": [
    "# Author\n",
    "Jinith A\n"
   ]
  },
  {
   "cell_type": "markdown",
   "id": "127e7a8b-75b3-4b9f-8316-0dd6bef9d874",
   "metadata": {},
   "source": [
    "## Screenshot of Notebook\n",
    "![Screenshot](Screenshot 2025-07-05 153311.png)\n"
   ]
  },
  {
   "cell_type": "code",
   "execution_count": null,
   "id": "833d47f0-90a5-4fc1-b3b4-f3cd20706851",
   "metadata": {},
   "outputs": [],
   "source": []
  }
 ],
 "metadata": {
  "kernelspec": {
   "display_name": "Python [conda env:base] *",
   "language": "python",
   "name": "conda-base-py"
  },
  "language_info": {
   "codemirror_mode": {
    "name": "ipython",
    "version": 3
   },
   "file_extension": ".py",
   "mimetype": "text/x-python",
   "name": "python",
   "nbconvert_exporter": "python",
   "pygments_lexer": "ipython3",
   "version": "3.12.7"
  }
 },
 "nbformat": 4,
 "nbformat_minor": 5
}
